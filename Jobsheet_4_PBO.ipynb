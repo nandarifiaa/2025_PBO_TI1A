{
  "nbformat": 4,
  "nbformat_minor": 0,
  "metadata": {
    "colab": {
      "provenance": [],
      "authorship_tag": "ABX9TyPgnigSbLfgNohSoog/8nYw",
      "include_colab_link": true
    },
    "kernelspec": {
      "name": "python3",
      "display_name": "Python 3"
    },
    "language_info": {
      "name": "python"
    }
  },
  "cells": [
    {
      "cell_type": "markdown",
      "metadata": {
        "id": "view-in-github",
        "colab_type": "text"
      },
      "source": [
        "<a href=\"https://colab.research.google.com/github/nandarifiaa/2025_PBO_TI1A/blob/main/Jobsheet_4_PBO.ipynb\" target=\"_parent\"><img src=\"https://colab.research.google.com/assets/colab-badge.svg\" alt=\"Open In Colab\"/></a>"
      ]
    },
    {
      "cell_type": "markdown",
      "source": [
        "**Praktikum 01**"
      ],
      "metadata": {
        "id": "hePgUQ1MVjSf"
      }
    },
    {
      "cell_type": "code",
      "source": [
        "# Kelas Induk\n",
        "class Kendaraan:\n",
        "    def _init_ (self, merk):\n",
        "        self.merk - merk\n",
        "\n",
        "    def mulai_mesin(self):\n",
        "        print (f\"Mesin kendaraan {self.merk} dinyalakan.\")\n",
        "\n",
        "# Kelas Ank (mewarisi dari Kendaraan)\n",
        "class Mobil(Kendaraan):\n",
        "    def __init__ (self, merk, warna):\n",
        "        # Memanggil _init___ kelas induk (akan dibahas di Praktikum 2)\n",
        "        # untuk sekarang, kita set merk secara manual\n",
        "        self.merk = merk # Mewarisi 'merk' tapi di-set ulang di sini\n",
        "        self.warna = warna # Atribut khusus Mobil\n",
        "\n",
        "    def info_mobil(self):\n",
        "        print(f\"Ini adalah mobil {self.merk} berwarna {self.warna}.\")\n",
        "\n",
        "# --- Kode Utama ---\n",
        "if __name__ == \"__main__\":\n",
        "    mobil_tesla = Mobil(\"Tesla Model S\", \"Merah\")\n",
        "\n",
        "    # Memanggil metode dari kelas anak\n",
        "    mobil_tesla.info_mobil()\n",
        "\n",
        "    # Memanggil metode yang diwarisi dari kelas induk\n",
        "    mobil_tesla.mulai_mesin()\n",
        "\n",
        "    # Mengakses atribut yang diwarisi (dan di-set di anak)\n",
        "    print (f\"Merk mobil: {mobil_tesla.merk}\")"
      ],
      "metadata": {
        "colab": {
          "base_uri": "https://localhost:8080/"
        },
        "id": "nRxPiHm2Vqcr",
        "outputId": "060ae558-fb6a-46d7-faf9-c2525b61cb4f"
      },
      "execution_count": null,
      "outputs": [
        {
          "output_type": "stream",
          "name": "stdout",
          "text": [
            "Ini adalah mobil Tesla Model S berwarna Merah.\n",
            "Mesin kendaraan Tesla Model S dinyalakan.\n",
            "Merk mobil: Tesla Model S\n"
          ]
        }
      ]
    },
    {
      "cell_type": "markdown",
      "source": [
        "**Praktikum 02**"
      ],
      "metadata": {
        "id": "F3OWazm8dE74"
      }
    },
    {
      "cell_type": "code",
      "source": [
        "# Kelas Induk\n",
        "class Person:\n",
        "    def __init__ (self, nama, usia):\n",
        "        print (f\"(Memanggil _init___ Person untuk '{nama}')\")\n",
        "        self.nama = nama\n",
        "        self.usia = usia\n",
        "\n",
        "    def perkenalan_diri (self):\n",
        "            print(f\"halo, nama saya {self.nama}, usia saya {self.usia} tahun.\")\n",
        "\n",
        "# Kelas Anak (mewarisi dari Person)\n",
        "class Student(Person):\n",
        "    def _init_ (self, nama, usia, student_id, jurusan):\n",
        "        print(f\"(Memanggil _init___ Student untuk '{nama}')\")\n",
        "        # Memanggil __init__ dari kelas Person untuk inisialisasi nama dan usia\n",
        "        super () .__init__ (nama, usia)\n",
        "        # Menambahkan atribut khusus Student\n",
        "        self.student_id = student_id\n",
        "        self.jurusan = jurusan\n",
        "        print(f\"(inisialisasi atribut Student selesai untuk '{nama}')\")\n",
        "\n",
        "    def info_akademik (self):\n",
        "        print(f\"ID Mahasiswa: {self.student_id}\")\n",
        "        print(f\"Jurusan: {self.jurusan}\")\n",
        "\n",
        "    # Override perkenalkan diri untuk menambahkan info student\n",
        "    def perkenalkan_diri (self):\n",
        "        super () .perkenalkan_diri() # Panggil versi Person\n",
        "        print(f\"Saya adalah mahasiswa dengan ID {self.student_id}, jurusan {self.jurusan}.\")\n",
        "# Kelas Induk\n",
        "class person:\n",
        "    def __init__ (self, nama, usia):\n",
        "        print (f\"(Memanggil _init___ Person untuk '{nama}')\")\n",
        "        self.nama = nama\n",
        "        self.usia = usia\n",
        "\n",
        "    def perkenalan_diri (self):\n",
        "          print(f\"halo, nama saya {self.nama}, usia saya {self.usia} tahun.\")\n",
        "\n",
        "# Kelas Anak (mewarisi dari Person)\n",
        "class Student(Person):\n",
        "    def __init__ (self, nama, usia, student_id, jurusan):\n",
        "        print(f\"(Memanggil _init___ Student untuk '{nama}')\")\n",
        "        # Memanggil __init__ dari kelas Person untuk inisialisasi nama dan usia\n",
        "        super().__init__(nama, usia)\n",
        "        # Menambahkan atribut khusus Student\n",
        "        self.student_id = student_id\n",
        "        self.jurusan = jurusan\n",
        "        print(f\"(inisialisasi atribut Student selesai untuk '{nama}')\")\n",
        "\n",
        "    def info_akademik (self):\n",
        "        print(f\"ID Mahasiswa: {self.student_id}\")\n",
        "        print(f\"Jurusan: {self.jurusan}\")\n",
        "\n",
        "    # Override perkenalkan diri untuk menambahkan info student\n",
        "    def perkenalkan_diri (self):\n",
        "        super().perkenalan_diri() # Panggil versi Person\n",
        "        print(f\"Saya adalah mahasiswa dengan ID {self.student_id}, jurusan {self.jurusan}.\")\n",
        "\n",
        "# --- Kode Utama ---\n",
        "if __name__ == \"__main__\":\n",
        "    # Membuat objek Person\n",
        "    dosen = person(\"Pak Anton\", 45)\n",
        "    print (\"-\" * 20)\n",
        "    dosen.perkenalan_diri()\n",
        "    print(\"\\n\" + \"-\" * 30 + \"\\n\")\n",
        "\n",
        "    # Membuat onjek Student\n",
        "    mahasiswa = Student(\"Dewi\", 20, \"MHS001\", \"Teknik Komputer\")\n",
        "    print(\"-\" * 20)\n",
        "    mahasiswa.perkenalkan_diri() # Panggil versi override di Student\n",
        "    print(\"-\" * 20)\n",
        "\n",
        "    # Cek atribut yang diwarisi\n",
        "    print(f\"\\nUsia mahasiswa {mahasiswa.nama}: {mahasiswa.usia}\") # usia diwarisi dari Person\n",
        "    print (\"-\" * 20)\n",
        "    dosen.perkenalan_diri ()\n",
        "    print(\"\\n\" + \"-\" * 30 + \"\\n\")\n",
        "\n",
        "    # Membuat onjek Student\n",
        "    mahasiswa = Student(\"Dewi\", 20, \"MHS001\", \"Teknik Komputer\")\n",
        "    print(\"-\" * 20)\n",
        "    mahasiswa.perkenalkan_diri() # Panggil versi override di Student\n",
        "    print(\"-\" * 20)\n",
        "\n",
        "    # Cek atribut yang diwarisi\n",
        "    print(f\"\\nUsia mahasiswa {mahasiswa.nama}: {mahasiswa.usia}\") # usia diwarisi dari Person"
      ],
      "metadata": {
        "colab": {
          "base_uri": "https://localhost:8080/"
        },
        "id": "SX0xRFuHeY4Z",
        "outputId": "6c48a867-a35d-4aee-8eeb-746ea5987854"
      },
      "execution_count": null,
      "outputs": [
        {
          "output_type": "stream",
          "name": "stdout",
          "text": [
            "(Memanggil _init___ Person untuk 'Pak Anton')\n",
            "--------------------\n",
            "halo, nama saya Pak Anton, usia saya 45 tahun.\n",
            "\n",
            "------------------------------\n",
            "\n",
            "(Memanggil _init___ Student untuk 'Dewi')\n",
            "(Memanggil _init___ Person untuk 'Dewi')\n",
            "(inisialisasi atribut Student selesai untuk 'Dewi')\n",
            "--------------------\n",
            "halo, nama saya Dewi, usia saya 20 tahun.\n",
            "Saya adalah mahasiswa dengan ID MHS001, jurusan Teknik Komputer.\n",
            "--------------------\n",
            "\n",
            "Usia mahasiswa Dewi: 20\n",
            "--------------------\n",
            "halo, nama saya Pak Anton, usia saya 45 tahun.\n",
            "\n",
            "------------------------------\n",
            "\n",
            "(Memanggil _init___ Student untuk 'Dewi')\n",
            "(Memanggil _init___ Person untuk 'Dewi')\n",
            "(inisialisasi atribut Student selesai untuk 'Dewi')\n",
            "--------------------\n",
            "halo, nama saya Dewi, usia saya 20 tahun.\n",
            "Saya adalah mahasiswa dengan ID MHS001, jurusan Teknik Komputer.\n",
            "--------------------\n",
            "\n",
            "Usia mahasiswa Dewi: 20\n"
          ]
        }
      ]
    },
    {
      "cell_type": "markdown",
      "source": [
        "**Praktikum 03**"
      ],
      "metadata": {
        "id": "EuuMILQjpfDm"
      }
    },
    {
      "cell_type": "code",
      "source": [
        "# Kelas Induk\n",
        "class Hewan:\n",
        "    def __init__ (self, nama):\n",
        "        self.nama = nama\n",
        "\n",
        "    def bersuara (self):\n",
        "        print(f\"{self.nama} mengeluarkan suara generik.\")\n",
        "\n",
        "    def tampilkan_info (self):\n",
        "        print(f\"Ini adalah hewan bernama {self.nama}.\")\n",
        "\n",
        "# Kelas Anak\n",
        "class Kucing(Hewan):\n",
        "    def __init__ (self, nama, ras):\n",
        "        super() .__init__ (nama) # Panggil init induk\n",
        "        self.ras = ras\n",
        "\n",
        "    # Method Overriding untuk bersuara\n",
        "    def bersuara (self):\n",
        "        print(f\"{self.nama} (Kucing) mengeong: Meow!\")\n",
        "\n",
        "    # Method Overriding untuk tampilkan_info, memanggil versi induk\n",
        "    def tampilkan_info (self):\n",
        "        super() .tampilkan_info() # Panggil implementasi dari Hewan\n",
        "        print(f\"Ini adalah kucing ras {self.ras}.\") # Tambahkan info spesifik\n",
        "\n",
        "# --- Kode Utama ---\n",
        "if __name__ == \"__main__\":\n",
        "    hewan_umum = Hewan (\"Makhluk\")\n",
        "    kucing_persia = Kucing (\"Puspus\", \"Persia\")\n",
        "\n",
        "    print(\"Info Hewan Umum:\")\n",
        "    hewan_umum.tampilkan_info()\n",
        "    hewan_umum.bersuara()\n",
        "    print(\"-\" * 20)\n",
        "\n",
        "    print(\"Info Kucing Persia\")\n",
        "    kucing_persia.tampilkan_info() # Akan memanggil versi Kucing\n",
        "    kucing_persia.bersuara() # Akan memanggil versi Kucing"
      ],
      "metadata": {
        "colab": {
          "base_uri": "https://localhost:8080/"
        },
        "id": "rNHfUenhqafp",
        "outputId": "44f72a6c-0a79-46e2-b244-0b6c1c9db5af"
      },
      "execution_count": null,
      "outputs": [
        {
          "output_type": "stream",
          "name": "stdout",
          "text": [
            "Info Hewan Umum:\n",
            "Ini adalah hewan bernama Makhluk.\n",
            "Makhluk mengeluarkan suara generik.\n",
            "--------------------\n",
            "Info Kucing Persia\n",
            "Ini adalah hewan bernama Puspus.\n",
            "Ini adalah kucing ras Persia.\n",
            "Puspus (Kucing) mengeong: Meow!\n"
          ]
        }
      ]
    },
    {
      "cell_type": "markdown",
      "source": [
        "**Praktikum 04**"
      ],
      "metadata": {
        "id": "0Xg4aEKl565h"
      }
    },
    {
      "cell_type": "code",
      "source": [
        "# Kelas Induk Level 1\n",
        "class Organisme:\n",
        "    def __init__ (self, nama):\n",
        "        self.nama = nama\n",
        "        print(f\"Organisme '{self.nama}' diciptakan.\")\n",
        "\n",
        "    def bernapas (self):\n",
        "        print(f\"{self.nama} sedang bernapas.\")\n",
        "\n",
        "# Kelas Anak Level 1 (mewarisi dari Organisme)\n",
        "class Hewan (Organisme):\n",
        "    def __init__ (self, nama, jenis_makanan):\n",
        "      super() .__init__ (nama) # Panggil init Organisme\n",
        "      self.jenis_makanan = jenis_makanan\n",
        "      print(f\"Hewan '{self.nama}' adalah {self.jenis_makanan}.\")\n",
        "\n",
        "    def bergerak (self):\n",
        "      print(f\"{self.nama} sedang bergerak.\")\n",
        "\n",
        "# Kelas Anak Level 2 (mewarisi dari Hewan)\n",
        "class Mamalia (Hewan):\n",
        "    def __init__ (self, nama, jenis_makanan, jumlah_kaki):\n",
        "        super() .__init__ (nama, jenis_makanan) # Panggil init Hewan\n",
        "        self.jumlah_kaki = jumlah_kaki\n",
        "        print(f\"Mamalia '{self.nama}' memiliki {self.jumlah_kaki} kaki.\")\n",
        "\n",
        "    def menyusui (self):\n",
        "        print(f\"{self.nama} sedang menyusui.\")\n",
        "\n",
        "# --- Kode Utama ---\n",
        "if __name__ == \"__main__\":\n",
        "    kucing = Mamalia (\"Kucing Persia\", \"Karnivora\", 4)\n",
        "    print(\"-\" * 20)\n",
        "\n",
        "    # Memanggil metode dari kelas Mamalia\n",
        "    kucing.menyusui()\n",
        "\n",
        "    # Memanggil metode yang diwarisi dari kelas Hewan\n",
        "    kucing.bergerak()\n",
        "    print(f\"Jenis makanan: {kucing.jenis_makanan}\")\n",
        "\n",
        "    # Memanggil metode yang diwarisi dari kelas Organisme\n",
        "    kucing.bernapas()\n",
        "    print(f\"Nama Organisme: {kucing.nama}\")"
      ],
      "metadata": {
        "colab": {
          "base_uri": "https://localhost:8080/"
        },
        "id": "k0G_Qjk55-_d",
        "outputId": "1af194bc-43e2-47ae-c5c5-bb49cc4a6888"
      },
      "execution_count": null,
      "outputs": [
        {
          "output_type": "stream",
          "name": "stdout",
          "text": [
            "Organisme 'Kucing Persia' diciptakan.\n",
            "Hewan 'Kucing Persia' adalah Karnivora.\n",
            "Mamalia 'Kucing Persia' memiliki 4 kaki.\n",
            "--------------------\n",
            "Kucing Persia sedang menyusui.\n",
            "Kucing Persia sedang bergerak.\n",
            "Jenis makanan: Karnivora\n",
            "Kucing Persia sedang bernapas.\n",
            "Nama Organisme: Kucing Persia\n"
          ]
        }
      ]
    },
    {
      "cell_type": "markdown",
      "source": [
        "**Praktikum 05**"
      ],
      "metadata": {
        "id": "sgCN9hBa9a01"
      }
    },
    {
      "cell_type": "code",
      "source": [
        "import locale\n",
        "\n",
        "# Set locale ke Indonesia untuk format mata uang\n",
        "try:\n",
        "    locale.setlocale(locale.LC_ALL, 'id ID.UTF-S')\n",
        "except locale.Error:\n",
        "        print(\"Locale id_ID.UTF-S tidak tersedia, menggunakan locale default.\")\n",
        "\n",
        "# Fungsi helper untuk format mata uang\n",
        "def format_rupiah(angka):\n",
        "    return f\"Rp {angka:,.0f}\".replace(\",\",\".\")\n",
        "\n",
        "# Kelas Induk\n",
        "class Pegawai:\n",
        "    def __init__(self, nama, id_pegawai, gaji_pokok):\n",
        "        self.nama = nama\n",
        "        self.id_pegawai = id_pegawai\n",
        "        self.gaji_pokok = gaji_pokok\n",
        "\n",
        "    def hitung_gaji (self):\n",
        "        # Gaji dasar, bisa di-override\n",
        "        return self.gaji_pokok\n",
        "\n",
        "    def tampilkan_info (self):\n",
        "        print(f\"ID: {self.id_pegawai}, Nama: {self.nama}\")\n",
        "        print(f\" Gaji Pokok: {format_rupiah(self.gaji_pokok)}\")\n",
        "\n",
        "# kelas Anak 1\n",
        "class Manager(Pegawai):\n",
        "    def __init__(self, nama, id_pegawai, gaji_pokok, tunjangan_jabatan):\n",
        "      super().__init__(nama, id_pegawai, gaji_pokok)\n",
        "      self.tunjangan_jabatan = tunjangan_jabatan\n",
        "\n",
        "    # Override hitung_gaji\n",
        "    def hitung_gaji(self):\n",
        "        gaji_total = super() .hitung_gaji() + self.tunjangan_jabatan\n",
        "        return gaji_total\n",
        "\n",
        "    # Override tampilkan_info (memanggil versi induk)\n",
        "    def tampilkan_info(self):\n",
        "        print(\"--- Info Manager ---\")\n",
        "        super().tampilkan_info() # Panggil info dasar dari Pegawai\n",
        "        print(f\"Tunjangan Jabatan: {format_rupiah(self.tunjangan_jabatan)}\")\n",
        "        print(f\"Total Gaji: {format_rupiah(self.hitung_gaji())}\")\n",
        "\n",
        "# Kelas Anak 2\n",
        "class StafTeknis(Pegawai):\n",
        "    def __init__ (self, nama, id_pegawai, gaji_pokok, keahlian, bonus_keahlian):\n",
        "        super().__init__(nama, id_pegawai, gaji_pokok)\n",
        "        self.keahlian = keahlian\n",
        "        self.bonus_keahlian = bonus_keahlian\n",
        "\n",
        "    # Override hitung_gaji\n",
        "    def hitung_gaji(self):\n",
        "        gaji_total = super().hitung_gaji() + self.bonus_keahlian\n",
        "        return gaji_total\n",
        "\n",
        "    # Override tampilkan_info (memanggil versi induk)\n",
        "    def tampilkan_info(self):\n",
        "        print(\"--- info Staf Teknis ---\")\n",
        "        super().tampilkan_info() # Panggil info dasar dari Pegawai\n",
        "        print(f\" Keahlian: {self.keahlian}\")\n",
        "        print(f\" Bonus Keahlian: {format_rupiah(self.bonus_keahlian)}\")\n",
        "        print(f\" Total Gaji: {format_rupiah(self.hitung_gaji())}\")\n",
        "\n",
        "# --- Kode Utama ---\n",
        "if __name__ == \"__main__\":\n",
        "    manager1 = Manager(\"Budi Santoso\", \"M001\", 10000000, 5000000)\n",
        "    staf1 = StafTeknis(\"Citra Lestari\", \"S001\", 7000000, \"Python Programming\", 1500000)\n",
        "    pegawai_baru = Pegawai(\"Rian\", \"P005\", 5000000) # Pegawai biasa\n",
        "\n",
        "    print(\"Menampilkan Informasi Pegawai:\")\n",
        "    manager1.tampilkan_info()\n",
        "    print(\"-\" * 30)\n",
        "    staf1.tampilkan_info()\n",
        "    print(\"-\" * 30)\n",
        "\n",
        "    print(\"--- Info Pegawai Baru ---\")\n",
        "    pegawai_baru.tampilkan_info()\n",
        "    print(f\" Total Gaji: {format_rupiah(pegawai_baru.hitung_gaji())}\")\n",
        "# Memanggil Versi Pegawai\n",
        "    print(\"-\" * 30)"
      ],
      "metadata": {
        "id": "Rc1Mz6Bv9dsK",
        "colab": {
          "base_uri": "https://localhost:8080/"
        },
        "outputId": "ab7d6526-cdd1-488a-eb46-a806105afd88"
      },
      "execution_count": 38,
      "outputs": [
        {
          "output_type": "stream",
          "name": "stdout",
          "text": [
            "Locale id_ID.UTF-S tidak tersedia, menggunakan locale default.\n",
            "Menampilkan Informasi Pegawai:\n",
            "--- Info Manager ---\n",
            "ID: M001, Nama: Budi Santoso\n",
            " Gaji Pokok: Rp 10.000.000\n",
            "Tunjangan Jabatan: Rp 5.000.000\n",
            "Total Gaji: Rp 15.000.000\n",
            "------------------------------\n",
            "--- info Staf Teknis ---\n",
            "ID: S001, Nama: Citra Lestari\n",
            " Gaji Pokok: Rp 7.000.000\n",
            " Keahlian: Python Programming\n",
            " Bonus Keahlian: Rp 1.500.000\n",
            " Total Gaji: Rp 8.500.000\n",
            "------------------------------\n",
            "--- Info Pegawai Baru ---\n",
            "ID: P005, Nama: Rian\n",
            " Gaji Pokok: Rp 5.000.000\n",
            " Total Gaji: Rp 5.000.000\n",
            "------------------------------\n"
          ]
        }
      ]
    },
    {
      "cell_type": "markdown",
      "source": [
        "**Praktikum 06**"
      ],
      "metadata": {
        "id": "3fxFN2BNyuNE"
      }
    },
    {
      "cell_type": "code",
      "source": [
        "class BentukGeometri:\n",
        "    def __init__(self, nama_bentuk):\n",
        "        self.nama = nama_bentuk\n",
        "    def tampilkan_nama(self):\n",
        "        print(f\"Ini adalah bentuk: {self.nama}\")\n",
        "    def hitung_luas(self):\n",
        "        hitung(f\"Luas {self.nama} tidak dapat dihitung (generik).\")\n",
        "\n",
        "class PersegiPanjang (BentukGeometri):\n",
        "    def __init__(self, panjang, lebar):\n",
        "        super().__init__(\"Persegi Panjang\")\n",
        "        self.panjang = panjang\n",
        "        self.lebar = lebar\n",
        "    def hitung_luas(self):\n",
        "        luas = self.panajng * self.lebar\n",
        "        print(f\"Luas {self.nama}: {luas}\")\n",
        "\n",
        "class Segitiga (BentukGeometri):\n",
        "    def __init__(self, alas, tinggi):\n",
        "        super().__init__(\"Segitiga\")\n",
        "        self.alas = alas\n",
        "        self.tinggi = tinggi\n",
        "    def hitung_luas(self):\n",
        "        luas = 0.5 * self.alas * self.tinggi\n",
        "        print(f\"Luas {self.nama}: {Luas}\")\n",
        "\n",
        "def proses_bentuk(bentuk):\n",
        "    print(f\"\\nmemproses objek: {type(bentuk)}\")\n",
        "\n",
        "    if isinstance(bentuk, BentukGeometri):\n",
        "        bentuk.tampilkan_nama()\n",
        "        print(\"Objek ini adalah instance dari BentukGeometri (atau turunannya).\")\n",
        "\n",
        "        if isinstance(bentuk, PersegiPanjang):\n",
        "            print(\"-> Objek ini juga instance dari PersegiPanjang.\")\n",
        "        elif isinstance(bentuk, Segitiga):\n",
        "            print(\"=> Objek ini juga instance dari Segitiga.\")\n",
        "    else:\n",
        "        print(\"Objek ini BUKAN instance dari BentukGeometri.\")\n",
        "\n",
        "    if isinstance(bentuk, str):\n",
        "        print(\"Objek ini adalah string\")\n",
        "\n",
        "# --- Kode Utama ---\n",
        "if __name__ == \"__main__\":\n",
        "    pp = PersegiPanjang(4,3)\n",
        "    seg = Segitiga(5,3)\n",
        "    bg = BentukGeometri(\"Lingkaran\") # Contoh lain\n",
        "    teks = \"Ini String\"\n",
        "\n",
        "    daftar_objek = [pp, seg, bg, teks]\n",
        "\n",
        "    for obj in daftar_objek:\n",
        "        proses_bentuk(obj)"
      ],
      "metadata": {
        "colab": {
          "base_uri": "https://localhost:8080/"
        },
        "id": "1COJPVJzytq7",
        "outputId": "6c2a5d6a-51f3-4f48-bf6e-c5719f9e7202"
      },
      "execution_count": 48,
      "outputs": [
        {
          "output_type": "stream",
          "name": "stdout",
          "text": [
            "\n",
            "memproses objek: <class '__main__.PersegiPanjang'>\n",
            "Ini adalah bentuk: Persegi Panjang\n",
            "Objek ini adalah instance dari BentukGeometri (atau turunannya).\n",
            "-> Objek ini juga instance dari PersegiPanjang.\n",
            "\n",
            "memproses objek: <class '__main__.Segitiga'>\n",
            "Ini adalah bentuk: Segitiga\n",
            "Objek ini adalah instance dari BentukGeometri (atau turunannya).\n",
            "=> Objek ini juga instance dari Segitiga.\n",
            "\n",
            "memproses objek: <class '__main__.BentukGeometri'>\n",
            "Ini adalah bentuk: Lingkaran\n",
            "Objek ini adalah instance dari BentukGeometri (atau turunannya).\n",
            "\n",
            "memproses objek: <class 'str'>\n",
            "Objek ini BUKAN instance dari BentukGeometri.\n",
            "Objek ini adalah string\n"
          ]
        }
      ]
    },
    {
      "cell_type": "markdown",
      "source": [
        "**Penugasan**"
      ],
      "metadata": {
        "id": "kzzjDDFPB4qS"
      }
    },
    {
      "cell_type": "markdown",
      "source": [
        "**Soal No.03**"
      ],
      "metadata": {
        "id": "d84med2sB8QW"
      }
    },
    {
      "cell_type": "code",
      "source": [
        "# Kelas Induk\n",
        "class Mahasiswa:\n",
        "    def __init__(self, nama, nim, ipk):\n",
        "        self.nama = nama\n",
        "        self.nim = nim\n",
        "        self.ipk = ipk\n",
        "\n",
        "    def tampilkan_info(self):\n",
        "        print(f\"Nama: {self.nama}\")\n",
        "        print(f\"NIM: {self.nim}\")\n",
        "        print(f\"IPK: {self.ipk} [IPK Mahasiswa]\")\n",
        "\n",
        "    def predikat(self):\n",
        "        if self.ipk >= 3.5:\n",
        "              return \"Dengan Pujian\"\n",
        "        elif self.ipk >= 3.0:\n",
        "              return \"Sangat Memuaskan\"\n",
        "        elif self.ipk >= 2.5:\n",
        "              return \"Memuaskan\"\n",
        "        else:\n",
        "              return \"Cukup\"\n",
        "\n",
        "# Kelas Anak 1\n",
        "class MahasiswaSarjana(Mahasiswa):\n",
        "    def __init__(self, nama, nim, ipk, semester, sks_lulus):\n",
        "        super().__init__(nama, nim, ipk)\n",
        "        self.semester = semester\n",
        "        self.sks_lulus = sks_lulus\n",
        "    def tampilkan_info(self):\n",
        "        super().tampilkan_info()\n",
        "        print(f\"Semester: {self.semester}\")\n",
        "        print(f\"SKS Lulus: {self.sks_lulus}\")\n",
        "\n",
        "# Kelas Anak 2\n",
        "class MahasiswaMagister(Mahasiswa):\n",
        "    def __init__(self, nama, nim, ipk, judul_tesis, nama_pembimbing):\n",
        "        super().__init__(nama, nim, ipk)\n",
        "        self.judul_tesis = judul_tesis\n",
        "        self.nama_pembimbing = nama_pembimbing\n",
        "\n",
        "    def tampilkan_info(self):\n",
        "        super().tampilkan_info()\n",
        "        print(f\"Judul tesis: {self.judul_tesis}\")\n",
        "        print(f\"Pembimbing: {self.nama_pembimbing}\")\n",
        "\n",
        "    # (Opsional) Override predikat jika ingin aturan berbeda untuk magister\n",
        "    # def predikat(self):\n",
        "    #     if self.ipk >= 3.7:\n",
        "    #          return \"Dengan Pujian (Magister)\"\n",
        "    #     else\"\n",
        "    #          return super().predikat()\n",
        "\n",
        "# Contoh Penggunaan\n",
        "print(\"=== Mahasiswa S1 ===\")\n",
        "mhs_S1 =  MahasiswaSarjana(\"Kusuma\", \"123456\", 3.6, 6, 120)\n",
        "mhs_S1.tampilkan_info()\n",
        "print(\"Predikat:\", mhs_S1.predikat())\n",
        "\n",
        "print(\"\\n=== Mahasiswa S2 ===\")\n",
        "mhs_S2 = MahasiswaMagister(\"Theo\", \"789012\", 3.8, \"Analisis Sistem Informasi\", \"Dr. Andi\")\n",
        "mhs_S2.tampilkan_info()\n",
        "print(\"Predikat:\", mhs_S2.predikat())"
      ],
      "metadata": {
        "colab": {
          "base_uri": "https://localhost:8080/"
        },
        "id": "R7pn3GtHB_Oh",
        "outputId": "a244c624-11f0-4f85-fac3-c93b820ff97c"
      },
      "execution_count": 55,
      "outputs": [
        {
          "output_type": "stream",
          "name": "stdout",
          "text": [
            "=== Mahasiswa S1 ===\n",
            "Nama: Kusuma\n",
            "NIM: 123456\n",
            "IPK: 3.6 [IPK Mahasiswa]\n",
            "Semester: 6\n",
            "SKS Lulus: 120\n",
            "Predikat: Dengan Pujian\n",
            "\n",
            "=== Mahasiswa S2 ===\n",
            "Nama: Theo\n",
            "NIM: 789012\n",
            "IPK: 3.8 [IPK Mahasiswa]\n",
            "Judul tesis: Analisis Sistem Informasi\n",
            "Pembimbing: Dr. Andi\n",
            "Predikat: Dengan Pujian\n"
          ]
        }
      ]
    }
  ]
}